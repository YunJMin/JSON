{
  "nbformat": 4,
  "nbformat_minor": 0,
  "metadata": {
    "colab": {
      "provenance": [],
      "collapsed_sections": [
        "nVO1HaDCqYHS",
        "u51Tdg5KBoGN",
        "tGs3uCbkCdxS"
      ],
      "toc_visible": true,
      "authorship_tag": "ABX9TyNJLvi3JRltzy1iGco91FID",
      "include_colab_link": true
    },
    "kernelspec": {
      "name": "python3",
      "display_name": "Python 3"
    },
    "language_info": {
      "name": "python"
    }
  },
  "cells": [
    {
      "cell_type": "markdown",
      "metadata": {
        "id": "view-in-github",
        "colab_type": "text"
      },
      "source": [
        "<a href=\"https://colab.research.google.com/github/YunJMin/JSON/blob/master/REST_API.ipynb\" target=\"_parent\"><img src=\"https://colab.research.google.com/assets/colab-badge.svg\" alt=\"Open In Colab\"/></a>"
      ]
    },
    {
      "cell_type": "markdown",
      "source": [
        "# **1. REST API의 탄생**\n",
        "REST는 Representational State Transfer라는 용어의 약자"
      ],
      "metadata": {
        "id": "tLnK4vhKqTj1"
      }
    },
    {
      "cell_type": "markdown",
      "source": [
        "# **2. REST의 특징**\n",
        "- 자원(RESOURCE) - URI\n",
        "- 행위(Verb) - HTTP METHOD\n",
        "- 표현(Representations)\n"
      ],
      "metadata": {
        "id": "nVO1HaDCqYHS"
      }
    },
    {
      "cell_type": "markdown",
      "source": [
        "##    2-1 Uniform (유니폼 인터페이스)\n",
        "        - URI로 지정한 리소스에 대한 조작을 통일\n",
        "        - 한정적인 인터페이스로 수행하는 아키텍쳐 스타일을 말함"
      ],
      "metadata": {
        "id": "z9Q5khTTCPSF"
      }
    },
    {
      "cell_type": "markdown",
      "source": [
        "##    2-2 Stateless (무상태성)\n",
        "        - 작업을 위한 상태정보를 따로 저장, 관리X\n",
        "        - 서비스의 자유도가 ↑, 서버에서 불필요한 정보를 관리X -> 구현이 단순"
      ],
      "metadata": {
        "id": "381f4j6cCQ7K"
      }
    },
    {
      "cell_type": "markdown",
      "source": [
        "##    2-3 Cacheable (캐시 가능)\n",
        "        - HTTP라는 기존 웹표준을 그대로 사용\n",
        "        - 캐싱 기능 적용 가능\n",
        "            (캐싱 - 일시적인 특징이 있는 데이터 하위 집합을 저장하는 고속 데이터 스토리지)\n"
      ],
      "metadata": {
        "id": "x5m6aWj1CTEq"
      }
    },
    {
      "cell_type": "markdown",
      "source": [
        "##    2-4 Self-descriptiveness (자체 표현 구조)\n",
        "        - REST API 메세지만 보고도 쉽게 이해 할 수 있는 자체 표현구조\n"
      ],
      "metadata": {
        "id": "dfKv_9IJCUcB"
      }
    },
    {
      "cell_type": "markdown",
      "source": [
        "##    2-5 Client - Server 구조\n",
        "        - REST 서버 -> API 제공\n",
        "        - 사용자 인증 or 컨텍스트(세션, 로그인 정보)를 직접 관리하는 구조\n",
        "        - 역할이 확실히 구분되있음\n"
      ],
      "metadata": {
        "id": "pMQCzBOECWbC"
      }
    },
    {
      "cell_type": "markdown",
      "source": [
        "##    2-6 계층형 구조\n",
        "        - REST 서버는 다중 계층으로 구성될 수 있음\n",
        "        - 보안, 로드 밸런싱, 암호화 계층을 추가해 구조상의 유연성↑\n",
        "        - 네트웨크 기반의 중간매체를 사용할 수 있음\n",
        "            ex) PROXY, 게이트웨이"
      ],
      "metadata": {
        "id": "HN_qz7jnCXsS"
      }
    },
    {
      "cell_type": "markdown",
      "source": [
        "# **3. REST API 디자인 가이드**\n",
        "  1) URI는 정보의 자원을 표현(리소스명은 동사보다는 명사를 사용)\n",
        "<br>2) 자원에 대한 행위는 HTTP Method(GET, POST, PUT, DELEDTE) 표현\n",
        "\n",
        "        "
      ],
      "metadata": {
        "id": "Ox4wyADbqZRp"
      }
    },
    {
      "cell_type": "markdown",
      "source": [
        "##    3-1 REST API 중심 규칙"
      ],
      "metadata": {
        "id": "pOhlgRxcCHdb"
      }
    },
    {
      "cell_type": "markdown",
      "source": [
        "### 1-1) GET /members/delete/1\n",
        "- 위 방식은 REST를 제대로 적용하지 않은 URI\n",
        "- URI는 자원을 표현하는데 중점을 두어야함\n",
        "- delete는 X"
      ],
      "metadata": {
        "id": "GTtHzc3GE-Dy"
      }
    },
    {
      "cell_type": "markdown",
      "source": [
        "### 2-2) DELETE /members/1 \n",
        "<br>(위 잘못된 URI를 HTTP Method를 통해 수정)\n",
        "- 회원정보를 가져올때 GET\n",
        "- 회원 추가 시의 행위를 표현하고자 할 때는 POST METHOD 사용"
      ],
      "metadata": {
        "id": "YlQmgMQYFAce"
      }
    },
    {
      "cell_type": "markdown",
      "source": [
        "**1. 회원정보를 가져오는 URI**\n",
        "- GET /members/show/1   (x)\n",
        "- GET /members/1        (o)\n",
        "\n",
        "**2. 회원을 추가할 때**\n",
        "- GET /members/insert/2 (x)  - GET 메서드는 리소스 생성에 맞지 않습니다.\n",
        "- POST /members/2       (o)"
      ],
      "metadata": {
        "id": "8j2wYTF9CnoU"
      }
    },
    {
      "cell_type": "markdown",
      "source": [
        "1. POST \n",
        "        - POST를 통해 해당 URI를 요청하면 리소스를 생성\n",
        "2. GET \n",
        "        - GET를 통해 해당 리소스를 조회\n",
        "        - 리소스를 조회, 해당 도큐먼트에 대한 자세한 정보를 가져옴\n",
        "3. PUT\n",
        "        - PUT를 통해 해당 리소스를 수정\n",
        "4. DELEDTE\n",
        "        - DELEDTE를 통해 리소스를 삭제\n",
        "    \n",
        "    => URI는 자원을 표현하는데 집중, 행위에 대한 정의는 HTTP METHOD를 통해 하는 것이 REST한 API설계 중심 규칙\n",
        "\n",
        "   "
      ],
      "metadata": {
        "id": "-zfcmzycBfvZ"
      }
    },
    {
      "cell_type": "markdown",
      "source": [
        "## 3-2 URI 설계 시 주의할 점"
      ],
      "metadata": {
        "id": "u51Tdg5KBoGN"
      }
    },
    {
      "cell_type": "markdown",
      "source": [
        "### 1) 슬래시 구분자(/)는 계층 관계를 나타내는데 사용\n",
        "- http://restapi.example.com/houses/apartments\n",
        "- http://restapi.example.com/animals/mammals/whales"
      ],
      "metadata": {
        "id": "ReJMH6A_Dovq"
      }
    },
    {
      "cell_type": "markdown",
      "source": [
        "### 2) URI 마지막 문자로 슬래시(/)를 포함하지 않음\n",
        "- URI에 포함되는 모든 글자는 리소스의 유일한 식별자로 사용되어야함\n",
        "- URI가 다르다는 것은 리소스가 다르다는 것, 역으로 리소스가 다르면 URI도 달라져야함\n",
        "  - http://restapi.example.com/houses/apartments/ (X)\n",
        "  - http://restapi.example.com/houses/apartments  (0)\n",
        "> URI를 만들어 통신을 해야 하기 때문에 혼동을 주지 않도록 URI 경로의 마지막에는 슬래시(/) 사용X\n",
        "\n",
        "        "
      ],
      "metadata": {
        "id": "iPzAHrFeDsGb"
      }
    },
    {
      "cell_type": "markdown",
      "source": [
        "### 3) 하이픈(-)은 URI 가독성을 높이는 사용\n",
        "- 불가피하게 긴 URI경로를 사용하게 된다면 하이픈을 사용해 가독성을 높일 수 있음\n",
        "\n"
      ],
      "metadata": {
        "id": "rjB0WF_3Duhj"
      }
    },
    {
      "cell_type": "markdown",
      "source": [
        "### 4) 밑줄(_)은 URI에 사용하지X\n",
        "- 밑줄은 문자를 가림 -> 하이픈 사용(가독성↑)"
      ],
      "metadata": {
        "id": "6Dx50qBkDxAL"
      }
    },
    {
      "cell_type": "markdown",
      "source": [
        "### 5) URI 경로에는 소문자가 적합\n",
        "- URI 경로에는 대문자 사용 피하기\n",
        "\n",
        "        "
      ],
      "metadata": {
        "id": "Kbz2kAD6EhhO"
      }
    },
    {
      "cell_type": "markdown",
      "source": [
        "### 6) 파일 확장자는 URI에 포함시키지X\n",
        "- http://restapi.example.com/members/soccer/345/photo.jpg (X)"
      ],
      "metadata": {
        "id": "at4vAl3wEjxm"
      }
    },
    {
      "cell_type": "markdown",
      "source": [
        "## 3-3 리소스 간의 관계를 표현하는 방법\n",
        "- REST 리소스 간에는 연관 관계가 있을 수 있음\n",
        "- /리소스명/리소스 ID/관계가 있는 다른 리소스명\n",
        "> ex) GET : /users/{userid}/devices (일반적으로 소유 ‘has’의 관계를 표현할 때)"
      ],
      "metadata": {
        "id": "tGs3uCbkCdxS"
      }
    },
    {
      "cell_type": "markdown",
      "source": [
        "## 3-4 자원을 표현하는 Collection과 Document\n",
        "        - DOCUMENT는 문서로 이해해도 됨 -> 한 객체\n",
        "        - COLLECTION은 객체들의 집합\n",
        "            ex) http:// restapi.example.com/sports/soccer\n",
        "                -> sports라는 컬렉션과 soccer라는 도큐먼트로 표현\n",
        "                    ex) http:// restapi.example.com/sports/soccer/players/13\n",
        "                        -> sports, players 컬렉션과 soccer, 13번 선수를 의미하는 도큐먼트로 URI가 이루어짐\n",
        "  => 컬렉션 복수로 사용하고 있음\n",
        "<br>=> 컬렉션과 도큐먼트를 사용할 때 단수 복수도 지켜준다면 URI를 설계할 수 있음"
      ],
      "metadata": {
        "id": "SJZRxmpjC5uK"
      }
    },
    {
      "cell_type": "markdown",
      "source": [
        "# **4. HTTP 응답 상태 코드**\n",
        "\n",
        "> 200: 클라이언트의 요청을 정상적으로 수행함\n",
        "\n",
        "> 201: 클라이언트가 어떠한 리소스 생성을 요청, 해당 리소스가 성공적으로 생상됨\n",
        "<br>(POST를 통한 리소스 생성 작업 시)\n",
        "\n",
        "> 400: 클라이언트의 요청이 부적절 할 경우 사용\n",
        "\n",
        "> 401: 클라이언트가 인증되지 않은 상태에서 보호된 리소스를 요청했을때\n",
        "<br>(로그인 하지 않은 유저가 로그인 했을 때, 요청 가능항 리소스를 요청했을 떄)\n",
        "\n",
        "> 403: 유저 인증상태와 관계 없이 응답하고 싶지 않은 리소스를 클라이언트가 요청했을때\n",
        "\n",
        "> 405: 클라이언트가 요청한 리소스에서 사용 불가능한 Method를 이용했을 경우\n",
        "<br>(응답 시 Location header에 변경된 URI를 적어야함)\n",
        "\n",
        "> 500: 서버에 문제가 있을 경우"
      ],
      "metadata": {
        "id": "W46tyXp-C8tA"
      }
    }
  ]
}